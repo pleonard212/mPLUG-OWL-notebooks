{
 "cells": [
  {
   "cell_type": "code",
   "execution_count": 6,
   "id": "3100defb-1c90-4c43-86e2-10a4e27e7862",
   "metadata": {},
   "outputs": [],
   "source": [
    "import torch\n",
    "from transformers import AutoTokenizer\n",
    "from mplug_owl_video.processing_mplug_owl import MplugOwlImageProcessor, MplugOwlProcessor"
   ]
  },
  {
   "cell_type": "code",
   "execution_count": 7,
   "id": "94f4fde1-b547-421a-b648-ece7b93ede54",
   "metadata": {},
   "outputs": [],
   "source": [
    "# This cell takes a long time to run. Like 5 or ten minutes.\n",
    "pretrained_ckpt = 'MAGAer13/mplug-owl-llama-7b-video'\n",
    "model = MplugOwlForConditionalGeneration.from_pretrained(\n",
    "   pretrained_ckpt,\n",
    "   torch_dtype=torch.bfloat16,\n",
    "   device_map={'': 0},\n",
    ")\n",
    "# GPU VRAM should be at about 15gb used when this cell is complete."
   ]
  },
  {
   "cell_type": "code",
   "execution_count": 8,
   "id": "6792472c-4873-403a-83cf-b239d7b67651",
   "metadata": {},
   "outputs": [],
   "source": [
    "# This cell also takes a long time to run.  Like 5 or ten minutes.\n",
    "image_processor = MplugOwlImageProcessor.from_pretrained(pretrained_ckpt)\n",
    "tokenizer = AutoTokenizer.from_pretrained(pretrained_ckpt)\n",
    "processor = MplugOwlProcessor(image_processor, tokenizer)"
   ]
  },
  {
   "cell_type": "code",
   "execution_count": 9,
   "id": "32b6e03c-0569-4dc3-bc7c-7e7ca5037c12",
   "metadata": {},
   "outputs": [],
   "source": [
    "# <|video|> denotes an video placeholder. \n",
    "prompts = [\n",
    "'''The following is a conversation between a curious human and AI assistant. The assistant gives helpful, detailed, and polite answers to the user's questions.\n",
    "Human: <|video|>\n",
    "Human: What is happening in this video?\n",
    "AI: ''']"
   ]
  },
  {
   "cell_type": "code",
   "execution_count": 19,
   "id": "80fa46dc-4647-4dd7-8592-f10526e20df7",
   "metadata": {},
   "outputs": [
    {
     "data": {
      "text/html": [
       "<video src=\"schneeeman-Scene-010.mp4\" controls   height=\"320\">\n",
       "      Your browser does not support the <code>video</code> element.\n",
       "    </video>"
      ],
      "text/plain": [
       "<IPython.core.display.Video object>"
      ]
     },
     "execution_count": 19,
     "metadata": {},
     "output_type": "execute_result"
    }
   ],
   "source": [
    "video_list = ['schneeeman-Scene-010.mp4']\n",
    "from IPython.display import Video\n",
    "Video(\"schneeeman-Scene-010.mp4\", height=320)"
   ]
  },
  {
   "cell_type": "code",
   "execution_count": 16,
   "id": "03ba5a87-cf8e-4f9e-b5fd-4901c898a78a",
   "metadata": {},
   "outputs": [],
   "source": [
    "# generate kwargs (the same in transformers) can be passed in the do_generate()\n",
    "generate_kwargs = {\n",
    "    'do_sample': True,\n",
    "    'top_k': 5,\n",
    "    'max_length': 512\n",
    "}"
   ]
  },
  {
   "cell_type": "code",
   "execution_count": 20,
   "id": "b936c699-5375-458a-879a-a6767cc0305a",
   "metadata": {},
   "outputs": [],
   "source": [
    "inputs = processor(text=prompts, videos=video_list, num_frames=4, return_tensors='pt')\n",
    "inputs = {k: v.bfloat16() if v.dtype == torch.float else v for k, v in inputs.items()}\n",
    "inputs = {k: v.to(model.device) for k, v in inputs.items()}"
   ]
  },
  {
   "cell_type": "code",
   "execution_count": 21,
   "id": "fc8142b3-c4be-459e-ab13-57c9ea3225e5",
   "metadata": {},
   "outputs": [
    {
     "name": "stdout",
     "output_type": "stream",
     "text": [
      "A close-up image of a leather dog collar is being filmed on a background with colorful strings. The collar is hanging from the string, and the string appears to be tied in a knot, creating an interesting and unique visual effect. The overall scene gives the impression that the leather collar is an artistic piece, with the strings and knot adding depth and dimension to the image.\n"
     ]
    }
   ],
   "source": [
    "with torch.no_grad():\n",
    "    res = model.generate(**inputs, **generate_kwargs)\n",
    "sentence = tokenizer.decode(res.tolist()[0], skip_special_tokens=True)\n",
    "print(sentence)"
   ]
  },
  {
   "cell_type": "code",
   "execution_count": null,
   "id": "39ae520c-55b0-495b-918d-9e890c01d38d",
   "metadata": {},
   "outputs": [],
   "source": []
  }
 ],
 "metadata": {
  "kernelspec": {
   "display_name": "Python [conda env:mplug_owl] *",
   "language": "python",
   "name": "conda-env-mplug_owl-py"
  },
  "language_info": {
   "codemirror_mode": {
    "name": "ipython",
    "version": 3
   },
   "file_extension": ".py",
   "mimetype": "text/x-python",
   "name": "python",
   "nbconvert_exporter": "python",
   "pygments_lexer": "ipython3",
   "version": "3.10.13"
  }
 },
 "nbformat": 4,
 "nbformat_minor": 5
}
